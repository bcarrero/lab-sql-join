{
 "cells": [
  {
   "cell_type": "markdown",
   "metadata": {},
   "source": [
    "Lab | SQL Join\n",
    "\n",
    "In this lab, you will be using the Sakila database of movie rentals.\n",
    "Instructions\n",
    "\n",
    "    List number of films per category.\n",
    "    Display the first and last names, as well as the address, of each staff member.\n",
    "    Display the total amount rung up by each staff member in August of 2005.\n",
    "    List each film and the number of actors who are listed for that film.\n",
    "    Using the tables payment and customer and the JOIN command, list the total paid by each customer. List the customers alphabetically by last name.\n"
   ]
  },
  {
   "cell_type": "code",
   "execution_count": null,
   "metadata": {},
   "outputs": [],
   "source": []
  }
 ],
 "metadata": {
  "kernelspec": {
   "display_name": "Python 3",
   "language": "python",
   "name": "python3"
  },
  "language_info": {
   "codemirror_mode": {
    "name": "ipython",
    "version": 3
   },
   "file_extension": ".py",
   "mimetype": "text/x-python",
   "name": "python",
   "nbconvert_exporter": "python",
   "pygments_lexer": "ipython3",
   "version": "3.7.4"
  }
 },
 "nbformat": 4,
 "nbformat_minor": 2
}
